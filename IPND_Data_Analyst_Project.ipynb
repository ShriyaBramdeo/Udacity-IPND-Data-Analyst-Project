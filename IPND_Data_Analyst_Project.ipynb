{
 "cells": [
  {
   "cell_type": "markdown",
   "metadata": {},
   "source": [
    "Check README for column name descriptions\n",
    "\n",
    "Potential Questions:\n",
    "\n",
    "1. Does number of league-wide HRs correlate with the 'steroid era'?\n",
    "2. How often does the team with the best record win the WS?\n",
    "3. Does total payroll correlate with win record?\n",
    "4. Does\n",
    "\n",
    "potentially useful: http://thomas-cokelaer.info/blog/2012/04/481/"
   ]
  },
  {
   "cell_type": "code",
   "execution_count": 148,
   "metadata": {
    "collapsed": false
   },
   "outputs": [
    {
     "data": {
      "text/html": [
       "<div>\n",
       "<table border=\"1\" class=\"dataframe\">\n",
       "  <thead>\n",
       "    <tr style=\"text-align: right;\">\n",
       "      <th></th>\n",
       "      <th>playerID</th>\n",
       "      <th>yearID</th>\n",
       "      <th>stint</th>\n",
       "      <th>teamID</th>\n",
       "      <th>lgID</th>\n",
       "      <th>G</th>\n",
       "      <th>AB</th>\n",
       "      <th>R</th>\n",
       "      <th>H</th>\n",
       "      <th>2B</th>\n",
       "      <th>...</th>\n",
       "      <th>RBI</th>\n",
       "      <th>SB</th>\n",
       "      <th>CS</th>\n",
       "      <th>BB</th>\n",
       "      <th>SO</th>\n",
       "      <th>IBB</th>\n",
       "      <th>HBP</th>\n",
       "      <th>SH</th>\n",
       "      <th>SF</th>\n",
       "      <th>GIDP</th>\n",
       "    </tr>\n",
       "  </thead>\n",
       "  <tbody>\n",
       "    <tr>\n",
       "      <th>0</th>\n",
       "      <td>abercda01</td>\n",
       "      <td>1871</td>\n",
       "      <td>1</td>\n",
       "      <td>TRO</td>\n",
       "      <td>NaN</td>\n",
       "      <td>1</td>\n",
       "      <td>4.0</td>\n",
       "      <td>0.0</td>\n",
       "      <td>0.0</td>\n",
       "      <td>0.0</td>\n",
       "      <td>...</td>\n",
       "      <td>0.0</td>\n",
       "      <td>0.0</td>\n",
       "      <td>0.0</td>\n",
       "      <td>0.0</td>\n",
       "      <td>0.0</td>\n",
       "      <td>NaN</td>\n",
       "      <td>NaN</td>\n",
       "      <td>NaN</td>\n",
       "      <td>NaN</td>\n",
       "      <td>NaN</td>\n",
       "    </tr>\n",
       "    <tr>\n",
       "      <th>1</th>\n",
       "      <td>addybo01</td>\n",
       "      <td>1871</td>\n",
       "      <td>1</td>\n",
       "      <td>RC1</td>\n",
       "      <td>NaN</td>\n",
       "      <td>25</td>\n",
       "      <td>118.0</td>\n",
       "      <td>30.0</td>\n",
       "      <td>32.0</td>\n",
       "      <td>6.0</td>\n",
       "      <td>...</td>\n",
       "      <td>13.0</td>\n",
       "      <td>8.0</td>\n",
       "      <td>1.0</td>\n",
       "      <td>4.0</td>\n",
       "      <td>0.0</td>\n",
       "      <td>NaN</td>\n",
       "      <td>NaN</td>\n",
       "      <td>NaN</td>\n",
       "      <td>NaN</td>\n",
       "      <td>NaN</td>\n",
       "    </tr>\n",
       "    <tr>\n",
       "      <th>2</th>\n",
       "      <td>allisar01</td>\n",
       "      <td>1871</td>\n",
       "      <td>1</td>\n",
       "      <td>CL1</td>\n",
       "      <td>NaN</td>\n",
       "      <td>29</td>\n",
       "      <td>137.0</td>\n",
       "      <td>28.0</td>\n",
       "      <td>40.0</td>\n",
       "      <td>4.0</td>\n",
       "      <td>...</td>\n",
       "      <td>19.0</td>\n",
       "      <td>3.0</td>\n",
       "      <td>1.0</td>\n",
       "      <td>2.0</td>\n",
       "      <td>5.0</td>\n",
       "      <td>NaN</td>\n",
       "      <td>NaN</td>\n",
       "      <td>NaN</td>\n",
       "      <td>NaN</td>\n",
       "      <td>NaN</td>\n",
       "    </tr>\n",
       "    <tr>\n",
       "      <th>3</th>\n",
       "      <td>allisdo01</td>\n",
       "      <td>1871</td>\n",
       "      <td>1</td>\n",
       "      <td>WS3</td>\n",
       "      <td>NaN</td>\n",
       "      <td>27</td>\n",
       "      <td>133.0</td>\n",
       "      <td>28.0</td>\n",
       "      <td>44.0</td>\n",
       "      <td>10.0</td>\n",
       "      <td>...</td>\n",
       "      <td>27.0</td>\n",
       "      <td>1.0</td>\n",
       "      <td>1.0</td>\n",
       "      <td>0.0</td>\n",
       "      <td>2.0</td>\n",
       "      <td>NaN</td>\n",
       "      <td>NaN</td>\n",
       "      <td>NaN</td>\n",
       "      <td>NaN</td>\n",
       "      <td>NaN</td>\n",
       "    </tr>\n",
       "    <tr>\n",
       "      <th>4</th>\n",
       "      <td>ansonca01</td>\n",
       "      <td>1871</td>\n",
       "      <td>1</td>\n",
       "      <td>RC1</td>\n",
       "      <td>NaN</td>\n",
       "      <td>25</td>\n",
       "      <td>120.0</td>\n",
       "      <td>29.0</td>\n",
       "      <td>39.0</td>\n",
       "      <td>11.0</td>\n",
       "      <td>...</td>\n",
       "      <td>16.0</td>\n",
       "      <td>6.0</td>\n",
       "      <td>2.0</td>\n",
       "      <td>2.0</td>\n",
       "      <td>1.0</td>\n",
       "      <td>NaN</td>\n",
       "      <td>NaN</td>\n",
       "      <td>NaN</td>\n",
       "      <td>NaN</td>\n",
       "      <td>NaN</td>\n",
       "    </tr>\n",
       "  </tbody>\n",
       "</table>\n",
       "<p>5 rows × 22 columns</p>\n",
       "</div>"
      ],
      "text/plain": [
       "    playerID  yearID  stint teamID lgID   G     AB     R     H    2B  ...   \\\n",
       "0  abercda01    1871      1    TRO  NaN   1    4.0   0.0   0.0   0.0  ...    \n",
       "1   addybo01    1871      1    RC1  NaN  25  118.0  30.0  32.0   6.0  ...    \n",
       "2  allisar01    1871      1    CL1  NaN  29  137.0  28.0  40.0   4.0  ...    \n",
       "3  allisdo01    1871      1    WS3  NaN  27  133.0  28.0  44.0  10.0  ...    \n",
       "4  ansonca01    1871      1    RC1  NaN  25  120.0  29.0  39.0  11.0  ...    \n",
       "\n",
       "    RBI   SB   CS   BB   SO  IBB  HBP  SH  SF  GIDP  \n",
       "0   0.0  0.0  0.0  0.0  0.0  NaN  NaN NaN NaN   NaN  \n",
       "1  13.0  8.0  1.0  4.0  0.0  NaN  NaN NaN NaN   NaN  \n",
       "2  19.0  3.0  1.0  2.0  5.0  NaN  NaN NaN NaN   NaN  \n",
       "3  27.0  1.0  1.0  0.0  2.0  NaN  NaN NaN NaN   NaN  \n",
       "4  16.0  6.0  2.0  2.0  1.0  NaN  NaN NaN NaN   NaN  \n",
       "\n",
       "[5 rows x 22 columns]"
      ]
     },
     "execution_count": 148,
     "metadata": {},
     "output_type": "execute_result"
    }
   ],
   "source": [
    "# checkout some of the data (2015 data used here)\n",
    "\n",
    "import matplotlib.pyplot as plt\n",
    "import numpy as np\n",
    "import pandas as pd\n",
    "#import seaborn as sns\n",
    "\n",
    "batting_df = pd.read_csv('baseball/core/Batting.csv')\n",
    "\n",
    "batting_df.head()"
   ]
  },
  {
   "cell_type": "code",
   "execution_count": 34,
   "metadata": {
    "collapsed": false
   },
   "outputs": [],
   "source": [
    "batting_group_team_year = batting_df.groupby(['teamID', 'yearID'])\n",
    "\n",
    "rbi_avg_by_team_and_year = batting_group_team_year.mean()['RBI']"
   ]
  },
  {
   "cell_type": "code",
   "execution_count": 35,
   "metadata": {
    "collapsed": false
   },
   "outputs": [
    {
     "name": "stdout",
     "output_type": "stream",
     "text": [
      "teamID  yearID\n",
      "ALT     1884            NaN\n",
      "ANA     1997      22.142857\n",
      "        1998      19.447368\n",
      "        1999      17.710526\n",
      "        2000      18.600000\n",
      "Name: RBI, dtype: float64\n"
     ]
    }
   ],
   "source": [
    "print rbi_avg_by_team_and_year.head()"
   ]
  },
  {
   "cell_type": "code",
   "execution_count": 36,
   "metadata": {
    "collapsed": true
   },
   "outputs": [],
   "source": [
    "hr_max_by_team_and_year = batting_group_team_year.max()['HR']"
   ]
  },
  {
   "cell_type": "code",
   "execution_count": 37,
   "metadata": {
    "collapsed": false
   },
   "outputs": [
    {
     "name": "stdout",
     "output_type": "stream",
     "text": [
      "count    2805.000000\n",
      "mean       22.422103\n",
      "std        13.041280\n",
      "min         0.000000\n",
      "25%        11.000000\n",
      "50%        23.000000\n",
      "75%        32.000000\n",
      "max        73.000000\n",
      "Name: HR, dtype: float64\n"
     ]
    }
   ],
   "source": [
    "print hr_max_by_team_and_year.describe()"
   ]
  },
  {
   "cell_type": "code",
   "execution_count": 38,
   "metadata": {
    "collapsed": false
   },
   "outputs": [
    {
     "name": "stdout",
     "output_type": "stream",
     "text": [
      "27.0\n"
     ]
    }
   ],
   "source": [
    "print hr_max_by_team_and_year.iloc[73]"
   ]
  },
  {
   "cell_type": "code",
   "execution_count": 39,
   "metadata": {
    "collapsed": false
   },
   "outputs": [
    {
     "data": {
      "text/plain": [
       "(101332, 22)"
      ]
     },
     "execution_count": 39,
     "metadata": {},
     "output_type": "execute_result"
    }
   ],
   "source": [
    "batting_df.shape # return size of dataset in cols, rows"
   ]
  },
  {
   "cell_type": "code",
   "execution_count": 40,
   "metadata": {
    "collapsed": false
   },
   "outputs": [],
   "source": [
    "batting_after_1985 = batting_df[batting_df.yearID >= 1985] # this filters by col contents!\n",
    "# source: https://www.youtube.com/watch?v=2AFGPdNn4FM"
   ]
  },
  {
   "cell_type": "code",
   "execution_count": 41,
   "metadata": {
    "collapsed": true
   },
   "outputs": [],
   "source": [
    "hr_max_by_team_year_since_1985 = batting_after_1985.groupby(['teamID', 'yearID']).max()['HR']"
   ]
  },
  {
   "cell_type": "code",
   "execution_count": 42,
   "metadata": {
    "collapsed": false
   },
   "outputs": [
    {
     "data": {
      "text/plain": [
       "count    888.000000\n",
       "mean      31.453829\n",
       "std        9.140893\n",
       "min       11.000000\n",
       "25%       25.000000\n",
       "50%       31.000000\n",
       "75%       37.000000\n",
       "max       73.000000\n",
       "Name: HR, dtype: float64"
      ]
     },
     "execution_count": 42,
     "metadata": {},
     "output_type": "execute_result"
    }
   ],
   "source": [
    "hr_max_by_team_year_since_1985.describe()"
   ]
  },
  {
   "cell_type": "code",
   "execution_count": 43,
   "metadata": {
    "collapsed": false
   },
   "outputs": [
    {
     "data": {
      "text/plain": [
       "15.0"
      ]
     },
     "execution_count": 43,
     "metadata": {},
     "output_type": "execute_result"
    }
   ],
   "source": [
    "hr_max_by_team_year_since_1985.iloc[73]"
   ]
  },
  {
   "cell_type": "code",
   "execution_count": 44,
   "metadata": {
    "collapsed": false
   },
   "outputs": [
    {
     "data": {
      "text/plain": [
       "37.0"
      ]
     },
     "execution_count": 44,
     "metadata": {},
     "output_type": "execute_result"
    }
   ],
   "source": [
    "hr_max_by_team_year_since_1985[15.0]"
   ]
  },
  {
   "cell_type": "code",
   "execution_count": 45,
   "metadata": {
    "collapsed": true
   },
   "outputs": [],
   "source": [
    "# look at max and average for each year and graph it\n",
    "batting_group_year = batting_df.groupby(['yearID'])"
   ]
  },
  {
   "cell_type": "code",
   "execution_count": 46,
   "metadata": {
    "collapsed": false
   },
   "outputs": [],
   "source": [
    "max_HR_by_year = batting_group_year.max()['HR']"
   ]
  },
  {
   "cell_type": "code",
   "execution_count": 64,
   "metadata": {
    "collapsed": false
   },
   "outputs": [],
   "source": [
    "average_HR_by_year = batting_group_year.mean()['HR']\n",
    "# maybe better to look at average of maxs (find max for each team by year, then take average)\n",
    "max_HR_by_team_year = batting_group_team_year.max()['HR']"
   ]
  },
  {
   "cell_type": "code",
   "execution_count": 80,
   "metadata": {
    "collapsed": false
   },
   "outputs": [],
   "source": [
    "batting_group_year_team = batting_df.groupby(['yearID', 'teamID'])"
   ]
  },
  {
   "cell_type": "code",
   "execution_count": 83,
   "metadata": {
    "collapsed": false
   },
   "outputs": [],
   "source": [
    "max_HR_by_team_year = batting_group_year_team.max()['HR']"
   ]
  },
  {
   "cell_type": "code",
   "execution_count": 89,
   "metadata": {
    "collapsed": false
   },
   "outputs": [
    {
     "data": {
      "text/plain": [
       "2.5555555555555554"
      ]
     },
     "execution_count": 89,
     "metadata": {},
     "output_type": "execute_result"
    }
   ],
   "source": [
    "max_HR_by_team_year[1871].mean()"
   ]
  },
  {
   "cell_type": "code",
   "execution_count": 99,
   "metadata": {
    "collapsed": false
   },
   "outputs": [
    {
     "name": "stdout",
     "output_type": "stream",
     "text": [
      "[2.5555555555555554, 1.3636363636363635, 1.7777777777777777, 2.0, 1.5384615384615385, 2.375, 1.8333333333333333, 2.0, 2.875, 3.375, 4.125, 4.428571428571429, 5.1875, 5.818181818181818, 6.25, 6.375, 10.375, 8.375, 11.4375, 7.44, 8.470588235294118, 8.25, 8.5, 11.916666666666666, 10.083333333333334, 7.916666666666667, 6.75, 7.25, 8.25, 8.375, 8.5625, 6.125, 6.5625, 5.5, 5.5625, 5.375, 4.9375, 5.25, 4.5625, 5.8125, 8.875, 7.9375, 7.9375, 8.875, 7.416666666666667, 6.9375, 6.0625, 5.1875, 9.0625, 13.25, 16.9375, 20.125, 18.875, 17.375, 18.875, 14.75, 17.6875, 18.5625, 23.5, 29.375, 20.0625, 23.875, 18.75, 25.0625, 22.6875, 23.9375, 24.625, 27.6875, 22.25, 25.8125, 22.3125, 18.5, 16.75, 18.5, 15.5625, 19.875, 24.875, 26.625, 25.5625, 29.3125, 27.6875, 24.8125, 29.75, 29.375, 32.25, 31.25, 30.6875, 31.625, 31.5625, 29.25, 32.166666666666664, 31.3, 27.0, 29.5, 26.35, 28.05, 27.3, 24.95, 31.0, 31.875, 27.833333333333332, 25.416666666666668, 26.583333333333332, 23.708333333333332, 24.875, 22.0, 29.153846153846153, 26.576923076923077, 28.76923076923077, 25.384615384615383, 16.807692307692307, 28.23076923076923, 26.5, 26.153846153846153, 27.846153846153847, 27.653846153846153, 33.76923076923077, 26.076923076923077, 27.846153846153847, 27.26923076923077, 28.807692307692307, 25.115384615384617, 30.357142857142858, 26.428571428571427, 29.642857142857142, 37.0, 33.142857142857146, 37.3, 37.733333333333334, 37.06666666666667, 38.666666666666664, 34.6, 33.53333333333333, 33.7, 32.733333333333334, 35.56666666666667, 31.466666666666665, 29.466666666666665, 31.8, 29.6, 29.433333333333334, 31.366666666666667, 28.8, 27.4, 30.2]\n"
     ]
    }
   ],
   "source": [
    "def find_mean_by_series_index(series_name):\n",
    "    start = 1871\n",
    "    list_of_averages = []\n",
    "    while start <= 2015:\n",
    "        index_average = series_name[start].mean()\n",
    "        start += 1\n",
    "        list_of_averages.append(index_average)\n",
    "    return list_of_averages\n",
    "    \n",
    "mean_max = find_mean_by_series_index(max_HR_by_team_year)\n",
    "print mean_max"
   ]
  },
  {
   "cell_type": "code",
   "execution_count": 65,
   "metadata": {
    "collapsed": false
   },
   "outputs": [
    {
     "name": "stdout",
     "output_type": "stream",
     "text": [
      "22.4221033868\n"
     ]
    }
   ],
   "source": [
    "average_max_HR_by_team_year = max_HR_by_team_year.mean()\n",
    "print average_max_HR_by_team_year"
   ]
  },
  {
   "cell_type": "code",
   "execution_count": 59,
   "metadata": {
    "collapsed": false
   },
   "outputs": [],
   "source": [
    "years = batting_df['yearID'].drop_duplicates()"
   ]
  },
  {
   "cell_type": "code",
   "execution_count": 115,
   "metadata": {
    "collapsed": false
   },
   "outputs": [
    {
     "data": {
      "text/plain": [
       "[<matplotlib.lines.Line2D at 0x7fc262255750>]"
      ]
     },
     "execution_count": 115,
     "metadata": {},
     "output_type": "execute_result"
    },
    {
     "data": {
      "image/png": "[encoded data removed]",
      "text/plain": [
       "<matplotlib.figure.Figure at 0x7fc262334310>"
      ]
     },
     "metadata": {},
     "output_type": "display_data"
    }
   ],
   "source": [
    "import seaborn as sns\n",
    "%matplotlib inline\n",
    "\n",
    "x = years\n",
    "y = max_HR_by_year\n",
    "z = mean_max\n",
    "\n",
    "plt.scatter(x, y, color = 'blue', label='Max HRs')\n",
    "plt.scatter(x, z, color = 'red', label='Average Max HRs')\n",
    "\n",
    "plt.title('Max and Mean of Max of HRs by Year Across All Teams')\n",
    "plt.xlabel('Year')\n",
    "plt.ylabel('Number of HRs')\n",
    "plt.legend(loc='upper left')\n",
    "plt.xlim(1860, 2020)\n",
    "plt.ylim(0, 80)\n",
    "# plt.xticks(10)\n",
    "\n",
    "# add trendlines\n",
    "\n",
    "m, b = np.polyfit(x, y, 1)\n",
    "\n",
    "plt.plot(x, y, '.', color = 'b')\n",
    "plt.plot(x, m*x + b, '-', color = 'g')\n",
    "\n",
    "m, b = np.polyfit(x, z, 1)\n",
    "\n",
    "plt.plot(x, z, '.', color = 'r')\n",
    "plt.plot(x, m*x + b, '-', color = 'k')"
   ]
  },
  {
   "cell_type": "markdown",
   "metadata": {},
   "source": [
    "## This figure shows maximum of number of homeruns (HR) hit league-wide for each year (blue). Compare this to the average of the maximum number by team for each year (i.e. find each team's max for each year and then average them by year, red). Both clearly show a steady increase over time."
   ]
  },
  {
   "cell_type": "markdown",
   "metadata": {},
   "source": [
    "# does the data differ between the two leagues since the DH was implemented (1973-present)? more specifically, have AL teams scored more runs than NL teams?\n",
    "On February 2, 1876, the National League of Professional Baseball Clubs, which comes to be more commonly known as the National League (NL), is formed. The American League (AL) was established in 1901 and in 1903, the first World Series was held.\n",
    "\n",
    "http://www.huffingtonpost.com/quora/what-are-the-major-eras-o_b_3547814.html"
   ]
  },
  {
   "cell_type": "code",
   "execution_count": 131,
   "metadata": {
    "collapsed": true
   },
   "outputs": [],
   "source": [
    "DH_implemented = 1973 # DH = designated hitter\n",
    "batting_since_DH = batting_df[batting_df.yearID >= DH_implemented]"
   ]
  },
  {
   "cell_type": "code",
   "execution_count": 132,
   "metadata": {
    "collapsed": false
   },
   "outputs": [],
   "source": [
    "AL_batting_since_DH = batting_since_DH[batting_since_DH.lgID == 'AL']"
   ]
  },
  {
   "cell_type": "code",
   "execution_count": 133,
   "metadata": {
    "collapsed": true
   },
   "outputs": [],
   "source": [
    "NL_batting_since_DH = batting_since_DH[batting_since_DH.lgID == 'NL']"
   ]
  },
  {
   "cell_type": "code",
   "execution_count": 134,
   "metadata": {
    "collapsed": false
   },
   "outputs": [],
   "source": [
    "AL_batting_since_DH_tot_runs_by_year = AL_batting_since_DH.groupby('yearID').sum()['R']"
   ]
  },
  {
   "cell_type": "code",
   "execution_count": 149,
   "metadata": {
    "collapsed": false
   },
   "outputs": [],
   "source": [
    "AL_batting_since_DH_mean_runs_by_year = AL_batting_since_DH.groupby('yearID').mean()['R']"
   ]
  },
  {
   "cell_type": "code",
   "execution_count": 150,
   "metadata": {
    "collapsed": true
   },
   "outputs": [],
   "source": [
    "NL_batting_since_DH_tot_runs_by_year = NL_batting_since_DH.groupby('yearID').sum()['R']"
   ]
  },
  {
   "cell_type": "code",
   "execution_count": 151,
   "metadata": {
    "collapsed": true
   },
   "outputs": [],
   "source": [
    "NL_batting_since_DH_mean_runs_by_year = NL_batting_since_DH.groupby('yearID').mean()['R']"
   ]
  },
  {
   "cell_type": "code",
   "execution_count": 152,
   "metadata": {
    "collapsed": true
   },
   "outputs": [],
   "source": [
    "DH_years = batting_since_DH['yearID'].drop_duplicates()"
   ]
  },
  {
   "cell_type": "code",
   "execution_count": 153,
   "metadata": {
    "collapsed": false
   },
   "outputs": [
    {
     "data": {
      "text/plain": [
       "(1970, 2020)"
      ]
     },
     "execution_count": 153,
     "metadata": {},
     "output_type": "execute_result"
    },
    {
     "data": {
      "image/png": "[encoded data removed]",
      "text/plain": [
       "<matplotlib.figure.Figure at 0x7fc26276c810>"
      ]
     },
     "metadata": {},
     "output_type": "display_data"
    }
   ],
   "source": [
    "%matplotlib inline\n",
    "\n",
    "x = DH_years\n",
    "y1 = AL_batting_since_DH_tot_runs_by_year\n",
    "y3 = NL_batting_since_DH_tot_runs_by_year\n",
    "\n",
    "plt.scatter(x, y1, color = 'blue', label='AL Total Runs')\n",
    "plt.scatter(x, y3, color = 'red', label='NL Total Runs')\n",
    "\n",
    "plt.title('Comparing Annual Total Runs Scored Between AL and NL Since Implementation of the DH')\n",
    "plt.xlabel('Year')\n",
    "plt.ylabel('Number of Runs Scored')\n",
    "plt.legend(loc='upper left')\n",
    "plt.xlim(1970, 2020)\n",
    "# plt.ylim(0, 80)"
   ]
  },
  {
   "cell_type": "code",
   "execution_count": 154,
   "metadata": {
    "collapsed": false
   },
   "outputs": [
    {
     "data": {
      "text/plain": [
       "(1970, 2020)"
      ]
     },
     "execution_count": 154,
     "metadata": {},
     "output_type": "execute_result"
    },
    {
     "data": {
      "image/png": "[encoded data removed]",
      "text/plain": [
       "<matplotlib.figure.Figure at 0x7fc262859250>"
      ]
     },
     "metadata": {},
     "output_type": "display_data"
    }
   ],
   "source": [
    "%matplotlib inline\n",
    "\n",
    "x = DH_years\n",
    "y2 = AL_batting_since_DH_mean_runs_by_year\n",
    "y4 = NL_batting_since_DH_mean_runs_by_year\n",
    "\n",
    "plt.scatter(x, y2, color = 'blue', label='AL Average Runs')\n",
    "\n",
    "plt.scatter(x, y4, color = 'red', label='NL Average Runs')\n",
    "\n",
    "plt.title('Comparing Annual Mean Runs Scored Between AL and NL Since Implementation of the DH')\n",
    "plt.xlabel('Year')\n",
    "plt.ylabel('Number of Runs Scored')\n",
    "plt.legend(loc='upper right')\n",
    "plt.xlim(1970, 2020)\n",
    "# plt.ylim(0, 80)"
   ]
  },
  {
   "cell_type": "markdown",
   "metadata": {},
   "source": [
    "## are NL pitchers better hitters than AL pitchers? ('Pitchers Who Rake') **since DH**"
   ]
  },
  {
   "cell_type": "code",
   "execution_count": 163,
   "metadata": {
    "collapsed": false
   },
   "outputs": [],
   "source": [
    "# need to import position data from fielding table\n",
    "fielding_df = pd.read_csv('baseball/core/Fielding.csv')"
   ]
  },
  {
   "cell_type": "code",
   "execution_count": 164,
   "metadata": {
    "collapsed": false
   },
   "outputs": [],
   "source": [
    "pitcher_fielding = fielding_df[fielding_df.POS == 'P']"
   ]
  },
  {
   "cell_type": "code",
   "execution_count": 165,
   "metadata": {
    "collapsed": false
   },
   "outputs": [],
   "source": [
    "pitcher_fielding_since_DH = pitcher_fielding[pitcher_fielding.yearID >= DH_implemented]"
   ]
  },
  {
   "cell_type": "code",
   "execution_count": 171,
   "metadata": {
    "collapsed": false
   },
   "outputs": [],
   "source": [
    "just_pitcher_pos_data = pitcher_fielding_since_DH.loc[:,['playerID', 'POS']]"
   ]
  },
  {
   "cell_type": "code",
   "execution_count": 178,
   "metadata": {
    "collapsed": false
   },
   "outputs": [],
   "source": [
    "# merge pitcher info with batting, retain only pitcher data\n",
    "pitcher_batting_since_DH = just_pitcher_pos_data.merge(batting_since_DH, on = 'playerID', how = 'outer')"
   ]
  },
  {
   "cell_type": "code",
   "execution_count": 179,
   "metadata": {
    "collapsed": true
   },
   "outputs": [],
   "source": [
    "# probably best to look at H/AB or RBI/AB?\n",
    "NL_pitcher_batting_since_DH = pitcher_batting_since_DH[pitcher_batting_since_DH.lgID == 'NL']"
   ]
  },
  {
   "cell_type": "code",
   "execution_count": 180,
   "metadata": {
    "collapsed": true
   },
   "outputs": [],
   "source": [
    "AL_pitcher_batting_since_DH = pitcher_batting_since_DH[pitcher_batting_since_DH.lgID == 'AL']"
   ]
  },
  {
   "cell_type": "code",
   "execution_count": 181,
   "metadata": {
    "collapsed": true
   },
   "outputs": [],
   "source": [
    "# hits per at bat\n",
    "NL_hits_per_at_bat = NL_pitcher_batting_since_DH.loc[:,'H'] / NL_pitcher_batting_since_DH.loc[:,'AB']"
   ]
  },
  {
   "cell_type": "code",
   "execution_count": 185,
   "metadata": {
    "collapsed": false
   },
   "outputs": [
    {
     "name": "stdout",
     "output_type": "stream",
     "text": [
      "0.145188868259\n"
     ]
    }
   ],
   "source": [
    "print NL_hits_per_at_bat.mean()"
   ]
  },
  {
   "cell_type": "code",
   "execution_count": 186,
   "metadata": {
    "collapsed": true
   },
   "outputs": [],
   "source": [
    "AL_hits_per_at_bat = AL_pitcher_batting_since_DH.loc[:,'H'] / AL_pitcher_batting_since_DH.loc[:,'AB']"
   ]
  },
  {
   "cell_type": "code",
   "execution_count": 187,
   "metadata": {
    "collapsed": false
   },
   "outputs": [
    {
     "name": "stdout",
     "output_type": "stream",
     "text": [
      "0.165535217627\n"
     ]
    }
   ],
   "source": [
    "print AL_hits_per_at_bat.mean()"
   ]
  },
  {
   "cell_type": "code",
   "execution_count": 188,
   "metadata": {
    "collapsed": true
   },
   "outputs": [],
   "source": [
    "# HR per AB\n",
    "NL_HR_per_at_bat = NL_pitcher_batting_since_DH.loc[:,'HR'] / NL_pitcher_batting_since_DH.loc[:,'AB']"
   ]
  },
  {
   "cell_type": "code",
   "execution_count": 189,
   "metadata": {
    "collapsed": false
   },
   "outputs": [
    {
     "name": "stdout",
     "output_type": "stream",
     "text": [
      "0.00601823980303\n"
     ]
    }
   ],
   "source": [
    "print NL_HR_per_at_bat.mean()"
   ]
  },
  {
   "cell_type": "code",
   "execution_count": 190,
   "metadata": {
    "collapsed": true
   },
   "outputs": [],
   "source": [
    "AL_HR_per_at_bat = AL_pitcher_batting_since_DH.loc[:,'HR'] / AL_pitcher_batting_since_DH.loc[:,'AB']"
   ]
  },
  {
   "cell_type": "code",
   "execution_count": 191,
   "metadata": {
    "collapsed": false
   },
   "outputs": [
    {
     "name": "stdout",
     "output_type": "stream",
     "text": [
      "0.0117126983227\n"
     ]
    }
   ],
   "source": [
    "print AL_HR_per_at_bat.mean()"
   ]
  },
  {
   "cell_type": "code",
   "execution_count": null,
   "metadata": {
    "collapsed": true
   },
   "outputs": [],
   "source": []
  }
 ],
 "metadata": {
  "anaconda-cloud": {},
  "kernelspec": {
   "display_name": "Python [default]",
   "language": "python",
   "name": "python2"
  },
  "language_info": {
   "codemirror_mode": {
    "name": "ipython",
    "version": 2
   },
   "file_extension": ".py",
   "mimetype": "text/x-python",
   "name": "python",
   "nbconvert_exporter": "python",
   "pygments_lexer": "ipython2",
   "version": "2.7.12"
  }
 },
 "nbformat": 4,
 "nbformat_minor": 1
}
